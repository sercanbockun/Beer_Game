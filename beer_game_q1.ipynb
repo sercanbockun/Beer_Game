{
 "cells": [
  {
   "cell_type": "code",
   "execution_count": 20,
   "metadata": {
    "scrolled": false
   },
   "outputs": [],
   "source": [
    "import pandas as pd\n",
    "df = pd.read_csv('beer_game_1.csv', engine= 'python')\n",
    "\n",
    "week_list= [i for i in range(1,36)]\n",
    "retailer_list= []\n",
    "wholesaler_list= []\n",
    "distributor_list= []\n",
    "factory_list= []\n",
    "for each in (df.loc[(df['Chain'] == 5) & (df['Role'] == 'retailer'), 'Order Placed']):\n",
    "    retailer_list.append(each)\n",
    "for each in (df.loc[(df['Chain'] == 5) &  (df['Role'] == 'wholesaler'), 'Order Placed']):\n",
    "    wholesaler_list.append(each)\n",
    "for each in (df.loc[(df['Chain'] == 5) & (df['Role'] == 'distributor') , 'Order Placed']):\n",
    "    distributor_list.append(each)\n",
    "for each in (df.loc[(df['Chain'] == 5) & (df['Role'] == 'factory') , 'Order Placed']):\n",
    "    factory_list.append(each)\n",
    "    \n",
    "    \n",
    "    \n",
    "    \n",
    "retailer_list2= []\n",
    "wholesaler_list2= []\n",
    "distributor_list2= []\n",
    "factory_list2= []\n",
    "for each in (df.loc[(df['Chain'] == 11) & (df['Role'] == 'retailer'), 'Order Placed']):\n",
    "    retailer_list2.append(each)\n",
    "for each in (df.loc[(df['Chain'] == 11) &  (df['Role'] == 'wholesaler'), 'Order Placed']):\n",
    "    wholesaler_list2.append(each)\n",
    "for each in (df.loc[(df['Chain'] == 11) & (df['Role'] == 'distributor') , 'Order Placed']):\n",
    "    distributor_list2.append(each)\n",
    "for each in (df.loc[(df['Chain'] == 11) & (df['Role'] == 'factory') , 'Order Placed']):\n",
    "    factory_list2.append(each)\n",
    "    \n",
    "    \n",
    "order_dict = {\n",
    "\n",
    "    \"Retailer\": retailer_list,\n",
    "    \"Wholesaler\": wholesaler_list,\n",
    "    \"Distributor\": distributor_list,\n",
    "    \"Factory\" : factory_list,\n",
    "    \"Week\": week_list\n",
    "}\n",
    "\n",
    "order_dict2 = {\n",
    "    \"Retailer\": retailer_list2,\n",
    "    \"Wholesaler\": wholesaler_list2,\n",
    "    \"Distributor\": distributor_list2,\n",
    "    \"Factory\" : factory_list2,\n",
    "    \"Week\": week_list\n",
    "}\n",
    "\n",
    "order_df = pd.DataFrame(order_dict)\n",
    "order_df.set_index(\"Week\", inplace=True)\n",
    "order_df.to_csv(\"beer_game_q1_chain5.csv\")\n",
    "\n",
    "\n",
    "order_df2 = pd.DataFrame(order_dict2)\n",
    "order_df2.set_index(\"Week\", inplace=True)\n",
    "order_df2.to_csv(\"beer_game_q1_chain11.csv\")\n",
    "\n"
   ]
  },
  {
   "cell_type": "code",
   "execution_count": null,
   "metadata": {},
   "outputs": [],
   "source": []
  }
 ],
 "metadata": {
  "kernelspec": {
   "display_name": "Python 3",
   "language": "python",
   "name": "python3"
  },
  "language_info": {
   "codemirror_mode": {
    "name": "ipython",
    "version": 3
   },
   "file_extension": ".py",
   "mimetype": "text/x-python",
   "name": "python",
   "nbconvert_exporter": "python",
   "pygments_lexer": "ipython3",
   "version": "3.8.1"
  }
 },
 "nbformat": 4,
 "nbformat_minor": 4
}
