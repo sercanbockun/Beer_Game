{
 "cells": [
  {
   "cell_type": "code",
   "execution_count": 7,
   "metadata": {},
   "outputs": [],
   "source": [
    "import pandas as pd\n",
    "\n",
    "df = pd.read_csv('beer_game_1.csv', engine= 'python')\n",
    "\n",
    "\n",
    "\n",
    "def avg_orders(chain, role):\n",
    "    \n",
    "    total_order = 0\n",
    "    for each in df.loc[(df['Chain'] == chain) & (df['Role'] == role), 'Order Placed']:\n",
    "        total_order += each\n",
    "    return (total_order/35)\n",
    "\n",
    "def std_devi(chain,role):\n",
    "    avg =  avg_orders(chain,role)\n",
    "    week = 1\n",
    "    diff = 0\n",
    "\n",
    "    for each in (df.loc[(df['Chain'] == chain) & (df['Role'] == role), 'Order Placed']):\n",
    "        diff += (each-avg)**2\n",
    "\n",
    "    return (diff/34)**(1/2)\n",
    "\n",
    "def co_var(chain,role):\n",
    "        return std_devi(chain,role)/avg_orders(chain,role)\n",
    "\n",
    "\n",
    "demand_list= []\n",
    "retailer_list= []\n",
    "wholesaler_list= []\n",
    "distributor_list= []\n",
    "factory_list= []\n",
    "chain_list = []\n",
    "\n",
    "for i in range(1,17):\n",
    "    demand_list.append(0.25)\n",
    "    retailer_list.append(co_var(i,'retailer'))\n",
    "    wholesaler_list.append(co_var(i, 'wholesaler'))\n",
    "    distributor_list.append(co_var(i, \"distributor\"))\n",
    "    factory_list.append(co_var(i,\"factory\"))\n",
    "    chain_list.append(i)\n",
    "\n",
    "co_var_dict = {\n",
    "    \"Demand\": demand_list ,\n",
    "    \"Retailer\": retailer_list,\n",
    "    \"Wholesaler\": wholesaler_list,\n",
    "    \"Distributor\": distributor_list,\n",
    "    \"Factory\" : factory_list,\n",
    "    \"Chain\": chain_list,\n",
    "\n",
    "}\n",
    "co_var_df = pd.DataFrame(co_var_dict)\n",
    "co_var_df.set_index(\"Chain\", inplace=True)\n",
    "co_var_df.to_csv(\"beer_game_1_co_var.csv\")\n"
   ]
  },
  {
   "cell_type": "code",
   "execution_count": null,
   "metadata": {},
   "outputs": [],
   "source": []
  }
 ],
 "metadata": {
  "kernelspec": {
   "display_name": "Python 3",
   "language": "python",
   "name": "python3"
  },
  "language_info": {
   "codemirror_mode": {
    "name": "ipython",
    "version": 3
   },
   "file_extension": ".py",
   "mimetype": "text/x-python",
   "name": "python",
   "nbconvert_exporter": "python",
   "pygments_lexer": "ipython3",
   "version": "3.8.1"
  }
 },
 "nbformat": 4,
 "nbformat_minor": 4
}
