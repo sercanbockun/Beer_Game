{
 "cells": [
  {
   "cell_type": "code",
   "execution_count": 2,
   "metadata": {},
   "outputs": [
    {
     "name": "stdout",
     "output_type": "stream",
     "text": [
      "[81192.5, 50305.0, 156360.0, 105730.0, 67800.0, 21480.0, 46707.5, 317750.0, 110037.5, 66575.0, 146775.0, 1261720.0, 86545.0, 44163.5, 33346.5]\n"
     ]
    }
   ],
   "source": [
    "import pandas as pd\n",
    "\n",
    "df = pd.read_csv('beer_game_2.csv', engine= 'python')\n",
    "\n",
    "def cost_finder(chain, role):\n",
    "    i= 1\n",
    "    for every in ((df.loc[(df['Chain'] == chain) & (df['Role'] == role), 'Cumulative Cost'])): \n",
    "        if i == len(df.loc[(df['Chain'] == 9) & (df['Role'] == role), 'Cumulative Cost']):\n",
    "            return(every)   \n",
    "        else: \n",
    "            i+= 1\n",
    "    \n",
    "chain_list = []\n",
    "retailer_list= []\n",
    "wholesaler_list= []\n",
    "distributor_list= []\n",
    "factory_list= []\n",
    "total_cost = []\n",
    "for n in range(1,16):\n",
    "    chain_list.append(n)\n",
    "    retailer_list.append(cost_finder(n, 'retailer'))\n",
    "    wholesaler_list.append(cost_finder(n, 'wholesaler'))\n",
    "    distributor_list.append(cost_finder(n, 'distributor'))\n",
    "    factory_list.append(cost_finder(n, 'factory'))\n",
    "    \n",
    "    \n",
    "for i in range(0,15):\n",
    "    total_cost.append(retailer_list[i] + wholesaler_list[i] + distributor_list[i] + factory_list[i])\n",
    "print(total_cost)\n",
    "cost_dict = {\n",
    "\n",
    "    \"Retailer\": retailer_list,\n",
    "    \"Wholesaler\": wholesaler_list,\n",
    "    \"Distributor\": distributor_list,\n",
    "    \"Factory\" : factory_list,\n",
    "    \"Chain\": chain_list,\n",
    "    \"SC Cost\": total_cost\n",
    "    \n",
    "}\n",
    "cost_df = pd.DataFrame(cost_dict)\n",
    "cost_df.set_index(\"Chain\", inplace=True)\n",
    "cost_df.to_csv(\"beer_game2_q4.csv\")\n",
    "\n",
    "\n",
    "\n",
    "\n",
    "    \n"
   ]
  },
  {
   "cell_type": "code",
   "execution_count": null,
   "metadata": {},
   "outputs": [],
   "source": []
  }
 ],
 "metadata": {
  "kernelspec": {
   "display_name": "Python 3",
   "language": "python",
   "name": "python3"
  },
  "language_info": {
   "codemirror_mode": {
    "name": "ipython",
    "version": 3
   },
   "file_extension": ".py",
   "mimetype": "text/x-python",
   "name": "python",
   "nbconvert_exporter": "python",
   "pygments_lexer": "ipython3",
   "version": "3.8.1"
  }
 },
 "nbformat": 4,
 "nbformat_minor": 4
}
